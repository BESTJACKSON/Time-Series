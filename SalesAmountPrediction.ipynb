{
 "cells": [
  {
   "cell_type": "markdown",
   "metadata": {},
   "source": [
    "### 1. Load the data and check out the structure about the data set. "
   ]
  },
  {
   "cell_type": "code",
   "execution_count": 3,
   "metadata": {
    "scrolled": true
   },
   "outputs": [
    {
     "data": {
      "text/plain": [
       "<bound method DataFrame.info of         Store  Dept        Date  Weekly_Sales  IsHoliday\n",
       "0           1     1    2010/2/5      24924.50      False\n",
       "1           1     1   2010/2/12      46039.49       True\n",
       "2           1     1   2010/2/19      41595.55      False\n",
       "3           1     1   2010/2/26      19403.54      False\n",
       "4           1     1    2010/3/5      21827.90      False\n",
       "...       ...   ...         ...           ...        ...\n",
       "421565     45    98   2012/9/28        508.37      False\n",
       "421566     45    98   2012/10/5        628.10      False\n",
       "421567     45    98  2012/10/12       1061.02      False\n",
       "421568     45    98  2012/10/19        760.01      False\n",
       "421569     45    98  2012/10/26       1076.80      False\n",
       "\n",
       "[421570 rows x 5 columns]>"
      ]
     },
     "execution_count": 3,
     "metadata": {},
     "output_type": "execute_result"
    }
   ],
   "source": [
    "import pandas as pd\n",
    "\n",
    "stores = pd.read_csv('stores.csv')\n",
    "train = pd.read_csv('train.csv')\n",
    "\n",
    "train.info"
   ]
  },
  {
   "cell_type": "markdown",
   "metadata": {},
   "source": [
    "We can see that there are a total of 421,570 rows in the train file, and there are no missing values in each column."
   ]
  },
  {
   "cell_type": "code",
   "execution_count": 4,
   "metadata": {},
   "outputs": [
    {
     "data": {
      "text/html": [
       "<div>\n",
       "<style scoped>\n",
       "    .dataframe tbody tr th:only-of-type {\n",
       "        vertical-align: middle;\n",
       "    }\n",
       "\n",
       "    .dataframe tbody tr th {\n",
       "        vertical-align: top;\n",
       "    }\n",
       "\n",
       "    .dataframe thead th {\n",
       "        text-align: right;\n",
       "    }\n",
       "</style>\n",
       "<table border=\"1\" class=\"dataframe\">\n",
       "  <thead>\n",
       "    <tr style=\"text-align: right;\">\n",
       "      <th></th>\n",
       "      <th>Store</th>\n",
       "      <th>Dept</th>\n",
       "      <th>Date</th>\n",
       "      <th>Weekly_Sales</th>\n",
       "      <th>IsHoliday</th>\n",
       "    </tr>\n",
       "  </thead>\n",
       "  <tbody>\n",
       "    <tr>\n",
       "      <th>0</th>\n",
       "      <td>1</td>\n",
       "      <td>1</td>\n",
       "      <td>2010/2/5</td>\n",
       "      <td>24924.50</td>\n",
       "      <td>False</td>\n",
       "    </tr>\n",
       "    <tr>\n",
       "      <th>1</th>\n",
       "      <td>1</td>\n",
       "      <td>1</td>\n",
       "      <td>2010/2/12</td>\n",
       "      <td>46039.49</td>\n",
       "      <td>True</td>\n",
       "    </tr>\n",
       "    <tr>\n",
       "      <th>2</th>\n",
       "      <td>1</td>\n",
       "      <td>1</td>\n",
       "      <td>2010/2/19</td>\n",
       "      <td>41595.55</td>\n",
       "      <td>False</td>\n",
       "    </tr>\n",
       "    <tr>\n",
       "      <th>3</th>\n",
       "      <td>1</td>\n",
       "      <td>1</td>\n",
       "      <td>2010/2/26</td>\n",
       "      <td>19403.54</td>\n",
       "      <td>False</td>\n",
       "    </tr>\n",
       "    <tr>\n",
       "      <th>4</th>\n",
       "      <td>1</td>\n",
       "      <td>1</td>\n",
       "      <td>2010/3/5</td>\n",
       "      <td>21827.90</td>\n",
       "      <td>False</td>\n",
       "    </tr>\n",
       "  </tbody>\n",
       "</table>\n",
       "</div>"
      ],
      "text/plain": [
       "   Store  Dept       Date  Weekly_Sales  IsHoliday\n",
       "0      1     1   2010/2/5      24924.50      False\n",
       "1      1     1  2010/2/12      46039.49       True\n",
       "2      1     1  2010/2/19      41595.55      False\n",
       "3      1     1  2010/2/26      19403.54      False\n",
       "4      1     1   2010/3/5      21827.90      False"
      ]
     },
     "execution_count": 4,
     "metadata": {},
     "output_type": "execute_result"
    }
   ],
   "source": [
    "train.head()"
   ]
  },
  {
   "cell_type": "code",
   "execution_count": 5,
   "metadata": {},
   "outputs": [
    {
     "name": "stdout",
     "output_type": "stream",
     "text": [
      "(45, 3)\n"
     ]
    },
    {
     "data": {
      "text/html": [
       "<div>\n",
       "<style scoped>\n",
       "    .dataframe tbody tr th:only-of-type {\n",
       "        vertical-align: middle;\n",
       "    }\n",
       "\n",
       "    .dataframe tbody tr th {\n",
       "        vertical-align: top;\n",
       "    }\n",
       "\n",
       "    .dataframe thead th {\n",
       "        text-align: right;\n",
       "    }\n",
       "</style>\n",
       "<table border=\"1\" class=\"dataframe\">\n",
       "  <thead>\n",
       "    <tr style=\"text-align: right;\">\n",
       "      <th></th>\n",
       "      <th>Store</th>\n",
       "      <th>Type</th>\n",
       "      <th>Size</th>\n",
       "    </tr>\n",
       "  </thead>\n",
       "  <tbody>\n",
       "    <tr>\n",
       "      <th>0</th>\n",
       "      <td>1</td>\n",
       "      <td>A</td>\n",
       "      <td>151315</td>\n",
       "    </tr>\n",
       "    <tr>\n",
       "      <th>1</th>\n",
       "      <td>2</td>\n",
       "      <td>A</td>\n",
       "      <td>202307</td>\n",
       "    </tr>\n",
       "    <tr>\n",
       "      <th>2</th>\n",
       "      <td>3</td>\n",
       "      <td>B</td>\n",
       "      <td>37392</td>\n",
       "    </tr>\n",
       "    <tr>\n",
       "      <th>3</th>\n",
       "      <td>4</td>\n",
       "      <td>A</td>\n",
       "      <td>205863</td>\n",
       "    </tr>\n",
       "    <tr>\n",
       "      <th>4</th>\n",
       "      <td>5</td>\n",
       "      <td>B</td>\n",
       "      <td>34875</td>\n",
       "    </tr>\n",
       "  </tbody>\n",
       "</table>\n",
       "</div>"
      ],
      "text/plain": [
       "   Store Type    Size\n",
       "0      1    A  151315\n",
       "1      2    A  202307\n",
       "2      3    B   37392\n",
       "3      4    A  205863\n",
       "4      5    B   34875"
      ]
     },
     "execution_count": 5,
     "metadata": {},
     "output_type": "execute_result"
    }
   ],
   "source": [
    "# Check out columns and rows.\n",
    "print(stores.shape)\n",
    "\n",
    "stores.head()"
   ]
  },
  {
   "cell_type": "markdown",
   "metadata": {},
   "source": [
    "### 2. Compare the data details:\n",
    "\n",
    "a) Total weekly and monthly sales\n",
    "\n",
    "b) Analyze sales by store. Explore the differences in sales for different store types and sizes.\n",
    "\n",
    "c) Analyze sales by department. "
   ]
  },
  {
   "cell_type": "code",
   "execution_count": 6,
   "metadata": {},
   "outputs": [
    {
     "data": {
      "text/html": [
       "<div>\n",
       "<style scoped>\n",
       "    .dataframe tbody tr th:only-of-type {\n",
       "        vertical-align: middle;\n",
       "    }\n",
       "\n",
       "    .dataframe tbody tr th {\n",
       "        vertical-align: top;\n",
       "    }\n",
       "\n",
       "    .dataframe thead th {\n",
       "        text-align: right;\n",
       "    }\n",
       "</style>\n",
       "<table border=\"1\" class=\"dataframe\">\n",
       "  <thead>\n",
       "    <tr style=\"text-align: right;\">\n",
       "      <th></th>\n",
       "      <th>Store</th>\n",
       "      <th>Dept</th>\n",
       "      <th>Date</th>\n",
       "      <th>Weekly_Sales</th>\n",
       "      <th>IsHoliday</th>\n",
       "      <th>month</th>\n",
       "      <th>week</th>\n",
       "    </tr>\n",
       "  </thead>\n",
       "  <tbody>\n",
       "    <tr>\n",
       "      <th>0</th>\n",
       "      <td>1</td>\n",
       "      <td>1</td>\n",
       "      <td>2010-02-05</td>\n",
       "      <td>24924.50</td>\n",
       "      <td>False</td>\n",
       "      <td>2</td>\n",
       "      <td>5</td>\n",
       "    </tr>\n",
       "    <tr>\n",
       "      <th>1</th>\n",
       "      <td>1</td>\n",
       "      <td>1</td>\n",
       "      <td>2010-02-12</td>\n",
       "      <td>46039.49</td>\n",
       "      <td>True</td>\n",
       "      <td>2</td>\n",
       "      <td>6</td>\n",
       "    </tr>\n",
       "    <tr>\n",
       "      <th>2</th>\n",
       "      <td>1</td>\n",
       "      <td>1</td>\n",
       "      <td>2010-02-19</td>\n",
       "      <td>41595.55</td>\n",
       "      <td>False</td>\n",
       "      <td>2</td>\n",
       "      <td>7</td>\n",
       "    </tr>\n",
       "    <tr>\n",
       "      <th>3</th>\n",
       "      <td>1</td>\n",
       "      <td>1</td>\n",
       "      <td>2010-02-26</td>\n",
       "      <td>19403.54</td>\n",
       "      <td>False</td>\n",
       "      <td>2</td>\n",
       "      <td>8</td>\n",
       "    </tr>\n",
       "    <tr>\n",
       "      <th>4</th>\n",
       "      <td>1</td>\n",
       "      <td>1</td>\n",
       "      <td>2010-03-05</td>\n",
       "      <td>21827.90</td>\n",
       "      <td>False</td>\n",
       "      <td>3</td>\n",
       "      <td>9</td>\n",
       "    </tr>\n",
       "  </tbody>\n",
       "</table>\n",
       "</div>"
      ],
      "text/plain": [
       "   Store  Dept       Date  Weekly_Sales  IsHoliday  month  week\n",
       "0      1     1 2010-02-05      24924.50      False      2     5\n",
       "1      1     1 2010-02-12      46039.49       True      2     6\n",
       "2      1     1 2010-02-19      41595.55      False      2     7\n",
       "3      1     1 2010-02-26      19403.54      False      2     8\n",
       "4      1     1 2010-03-05      21827.90      False      3     9"
      ]
     },
     "execution_count": 6,
     "metadata": {},
     "output_type": "execute_result"
    }
   ],
   "source": [
    "# Transfer the format of the time.\n",
    "train['Date'] = pd.to_datetime(train['Date'])\n",
    "\n",
    "# Extract the month and week number.\n",
    "train['month'] = train['Date'].dt.month\n",
    "train['week'] = train['Date'].dt.week\n",
    "\n",
    "train.head()"
   ]
  },
  {
   "cell_type": "code",
   "execution_count": 7,
   "metadata": {},
   "outputs": [
    {
     "data": {
      "image/png": "[encoded data removed]",
      "text/plain": [
       "<Figure size 864x432 with 1 Axes>"
      ]
     },
     "metadata": {
      "needs_background": "light"
     },
     "output_type": "display_data"
    }
   ],
   "source": [
    "import matplotlib.pyplot as plt\n",
    "%matplotlib inline\n",
    "\n",
    "# Divide sales by week. \n",
    "train.groupby('week')['Weekly_Sales'].sum().plot(figsize=(12,6))\n",
    "plt.show()"
   ]
  },
  {
   "cell_type": "code",
   "execution_count": 8,
   "metadata": {},
   "outputs": [
    {
     "data": {
      "text/plain": [
       "month\n",
       "1     3.325984e+08\n",
       "2     5.687279e+08\n",
       "3     5.927859e+08\n",
       "4     6.468598e+08\n",
       "5     5.571256e+08\n",
       "6     6.226299e+08\n",
       "7     6.500010e+08\n",
       "8     6.130902e+08\n",
       "9     5.787612e+08\n",
       "10    5.847848e+08\n",
       "11    4.130157e+08\n",
       "12    5.768386e+08\n",
       "Name: Weekly_Sales, dtype: float64"
      ]
     },
     "execution_count": 8,
     "metadata": {},
     "output_type": "execute_result"
    }
   ],
   "source": [
    "# Divide by month.\n",
    "train.groupby('month')['Weekly_Sales'].sum()"
   ]
  },
  {
   "cell_type": "code",
   "execution_count": 9,
   "metadata": {},
   "outputs": [
    {
     "data": {
      "image/png": "[encoded data removed]",
      "text/plain": [
       "<Figure size 864x432 with 1 Axes>"
      ]
     },
     "metadata": {
      "needs_background": "light"
     },
     "output_type": "display_data"
    }
   ],
   "source": [
    "# Divide by month.\n",
    "train.groupby('month')['Weekly_Sales'].sum().plot(figsize=(12,6),kind='bar',rot=360)\n",
    "plt.show()"
   ]
  },
  {
   "cell_type": "markdown",
   "metadata": {},
   "source": [
    "Sales were the lowest in January and the highest in July."
   ]
  },
  {
   "cell_type": "code",
   "execution_count": 10,
   "metadata": {
    "scrolled": true
   },
   "outputs": [
    {
     "data": {
      "image/png": "[encoded data removed]",
      "text/plain": [
       "<Figure size 864x432 with 1 Axes>"
      ]
     },
     "metadata": {
      "needs_background": "light"
     },
     "output_type": "display_data"
    }
   ],
   "source": [
    "# Devide the sales by stores. \n",
    "train.groupby('Store')['Weekly_Sales'].sum().plot(figsize=(12,6),kind='bar',color='lightgreen',rot=360)\n",
    "plt.show()"
   ]
  },
  {
   "cell_type": "markdown",
   "metadata": {},
   "source": [
    "We can see that there is a big gap between the sales of each store, and the No. 20 store has the highest sales."
   ]
  },
  {
   "cell_type": "code",
   "execution_count": 11,
   "metadata": {},
   "outputs": [
    {
     "data": {
      "text/html": [
       "<div>\n",
       "<style scoped>\n",
       "    .dataframe tbody tr th:only-of-type {\n",
       "        vertical-align: middle;\n",
       "    }\n",
       "\n",
       "    .dataframe tbody tr th {\n",
       "        vertical-align: top;\n",
       "    }\n",
       "\n",
       "    .dataframe thead th {\n",
       "        text-align: right;\n",
       "    }\n",
       "</style>\n",
       "<table border=\"1\" class=\"dataframe\">\n",
       "  <thead>\n",
       "    <tr style=\"text-align: right;\">\n",
       "      <th></th>\n",
       "      <th>Store</th>\n",
       "      <th>Dept</th>\n",
       "      <th>Date</th>\n",
       "      <th>Weekly_Sales</th>\n",
       "      <th>IsHoliday</th>\n",
       "      <th>month</th>\n",
       "      <th>week</th>\n",
       "      <th>Type</th>\n",
       "      <th>Size</th>\n",
       "    </tr>\n",
       "  </thead>\n",
       "  <tbody>\n",
       "    <tr>\n",
       "      <th>0</th>\n",
       "      <td>1</td>\n",
       "      <td>1</td>\n",
       "      <td>2010-02-05</td>\n",
       "      <td>24924.50</td>\n",
       "      <td>False</td>\n",
       "      <td>2</td>\n",
       "      <td>5</td>\n",
       "      <td>A</td>\n",
       "      <td>151315</td>\n",
       "    </tr>\n",
       "    <tr>\n",
       "      <th>1</th>\n",
       "      <td>1</td>\n",
       "      <td>1</td>\n",
       "      <td>2010-02-12</td>\n",
       "      <td>46039.49</td>\n",
       "      <td>True</td>\n",
       "      <td>2</td>\n",
       "      <td>6</td>\n",
       "      <td>A</td>\n",
       "      <td>151315</td>\n",
       "    </tr>\n",
       "    <tr>\n",
       "      <th>2</th>\n",
       "      <td>1</td>\n",
       "      <td>1</td>\n",
       "      <td>2010-02-19</td>\n",
       "      <td>41595.55</td>\n",
       "      <td>False</td>\n",
       "      <td>2</td>\n",
       "      <td>7</td>\n",
       "      <td>A</td>\n",
       "      <td>151315</td>\n",
       "    </tr>\n",
       "    <tr>\n",
       "      <th>3</th>\n",
       "      <td>1</td>\n",
       "      <td>1</td>\n",
       "      <td>2010-02-26</td>\n",
       "      <td>19403.54</td>\n",
       "      <td>False</td>\n",
       "      <td>2</td>\n",
       "      <td>8</td>\n",
       "      <td>A</td>\n",
       "      <td>151315</td>\n",
       "    </tr>\n",
       "    <tr>\n",
       "      <th>4</th>\n",
       "      <td>1</td>\n",
       "      <td>1</td>\n",
       "      <td>2010-03-05</td>\n",
       "      <td>21827.90</td>\n",
       "      <td>False</td>\n",
       "      <td>3</td>\n",
       "      <td>9</td>\n",
       "      <td>A</td>\n",
       "      <td>151315</td>\n",
       "    </tr>\n",
       "  </tbody>\n",
       "</table>\n",
       "</div>"
      ],
      "text/plain": [
       "   Store  Dept       Date  Weekly_Sales  IsHoliday  month  week Type    Size\n",
       "0      1     1 2010-02-05      24924.50      False      2     5    A  151315\n",
       "1      1     1 2010-02-12      46039.49       True      2     6    A  151315\n",
       "2      1     1 2010-02-19      41595.55      False      2     7    A  151315\n",
       "3      1     1 2010-02-26      19403.54      False      2     8    A  151315\n",
       "4      1     1 2010-03-05      21827.90      False      3     9    A  151315"
      ]
     },
     "execution_count": 11,
     "metadata": {},
     "output_type": "execute_result"
    }
   ],
   "source": [
    "# Merge the data\n",
    "data = pd.merge(train,stores,on='Store')\n",
    "data.head()"
   ]
  },
  {
   "cell_type": "code",
   "execution_count": 12,
   "metadata": {},
   "outputs": [
    {
     "data": {
      "image/png": "[encoded data removed]",
      "text/plain": [
       "<Figure size 576x432 with 1 Axes>"
      ]
     },
     "metadata": {
      "needs_background": "light"
     },
     "output_type": "display_data"
    },
    {
     "data": {
      "image/png": "[encoded data removed]",
      "text/plain": [
       "<Figure size 432x288 with 1 Axes>"
      ]
     },
     "metadata": {
      "needs_background": "light"
     },
     "output_type": "display_data"
    }
   ],
   "source": [
    "# Explore the relationship between different store types and sales.\n",
    "\n",
    "plt.figure(figsize=(8,6))\n",
    "\n",
    "plt.subplot(211)\n",
    "data.groupby('Type')['Weekly_Sales'].sum().plot(kind='bar',color='skyblue',rot=360)\n",
    "plt.title('Weekly_Sales_Sum')\n",
    "plt.show()\n",
    "\n",
    "plt.subplot(212)\n",
    "data.groupby('Type')['Weekly_Sales'].mean().plot(kind='bar',color='gray',rot=360)\n",
    "plt.title('Weekly_Sales_Mean')\n",
    "plt.show()"
   ]
  },
  {
   "cell_type": "markdown",
   "metadata": {},
   "source": [
    "We can see that type A stores have the highest, no matter whether it is total sales or average sales."
   ]
  },
  {
   "cell_type": "code",
   "execution_count": 13,
   "metadata": {},
   "outputs": [
    {
     "data": {
      "text/html": [
       "<div>\n",
       "<style scoped>\n",
       "    .dataframe tbody tr th:only-of-type {\n",
       "        vertical-align: middle;\n",
       "    }\n",
       "\n",
       "    .dataframe tbody tr th {\n",
       "        vertical-align: top;\n",
       "    }\n",
       "\n",
       "    .dataframe thead th {\n",
       "        text-align: right;\n",
       "    }\n",
       "</style>\n",
       "<table border=\"1\" class=\"dataframe\">\n",
       "  <thead>\n",
       "    <tr style=\"text-align: right;\">\n",
       "      <th></th>\n",
       "      <th>Store</th>\n",
       "      <th>Sum_Sales</th>\n",
       "      <th>Size</th>\n",
       "    </tr>\n",
       "  </thead>\n",
       "  <tbody>\n",
       "    <tr>\n",
       "      <th>0</th>\n",
       "      <td>1</td>\n",
       "      <td>2.224028e+08</td>\n",
       "      <td>151315</td>\n",
       "    </tr>\n",
       "    <tr>\n",
       "      <th>1</th>\n",
       "      <td>2</td>\n",
       "      <td>2.753824e+08</td>\n",
       "      <td>202307</td>\n",
       "    </tr>\n",
       "    <tr>\n",
       "      <th>2</th>\n",
       "      <td>3</td>\n",
       "      <td>5.758674e+07</td>\n",
       "      <td>37392</td>\n",
       "    </tr>\n",
       "    <tr>\n",
       "      <th>3</th>\n",
       "      <td>4</td>\n",
       "      <td>2.995440e+08</td>\n",
       "      <td>205863</td>\n",
       "    </tr>\n",
       "    <tr>\n",
       "      <th>4</th>\n",
       "      <td>5</td>\n",
       "      <td>4.547569e+07</td>\n",
       "      <td>34875</td>\n",
       "    </tr>\n",
       "    <tr>\n",
       "      <th>5</th>\n",
       "      <td>6</td>\n",
       "      <td>2.237561e+08</td>\n",
       "      <td>202505</td>\n",
       "    </tr>\n",
       "    <tr>\n",
       "      <th>6</th>\n",
       "      <td>7</td>\n",
       "      <td>8.159828e+07</td>\n",
       "      <td>70713</td>\n",
       "    </tr>\n",
       "    <tr>\n",
       "      <th>7</th>\n",
       "      <td>8</td>\n",
       "      <td>1.299512e+08</td>\n",
       "      <td>155078</td>\n",
       "    </tr>\n",
       "    <tr>\n",
       "      <th>8</th>\n",
       "      <td>9</td>\n",
       "      <td>7.778922e+07</td>\n",
       "      <td>125833</td>\n",
       "    </tr>\n",
       "    <tr>\n",
       "      <th>9</th>\n",
       "      <td>10</td>\n",
       "      <td>2.716177e+08</td>\n",
       "      <td>126512</td>\n",
       "    </tr>\n",
       "  </tbody>\n",
       "</table>\n",
       "</div>"
      ],
      "text/plain": [
       "   Store     Sum_Sales    Size\n",
       "0      1  2.224028e+08  151315\n",
       "1      2  2.753824e+08  202307\n",
       "2      3  5.758674e+07   37392\n",
       "3      4  2.995440e+08  205863\n",
       "4      5  4.547569e+07   34875\n",
       "5      6  2.237561e+08  202505\n",
       "6      7  8.159828e+07   70713\n",
       "7      8  1.299512e+08  155078\n",
       "8      9  7.778922e+07  125833\n",
       "9     10  2.716177e+08  126512"
      ]
     },
     "execution_count": 13,
     "metadata": {},
     "output_type": "execute_result"
    }
   ],
   "source": [
    "# Explore the relationship between store size and sales.\n",
    "\n",
    "# First, the total sales of the store and the size of the store are spliced together.\n",
    "store_grouped_sales = data.groupby('Store')['Weekly_Sales'].sum().reset_index().rename(columns={'Weekly_Sales':'Sum_Sales'})\n",
    "data1 = pd.merge(store_grouped_sales,stores,on='Store').drop(['Type'],axis=1)\n",
    "data1.head(10)"
   ]
  },
  {
   "cell_type": "code",
   "execution_count": 14,
   "metadata": {},
   "outputs": [
    {
     "data": {
      "image/png": "[encoded data removed]",
      "text/plain": [
       "<Figure size 432x288 with 1 Axes>"
      ]
     },
     "metadata": {
      "needs_background": "light"
     },
     "output_type": "display_data"
    }
   ],
   "source": [
    "plt.scatter(data1['Size'],data1['Sum_Sales'],alpha=0.8,color='orange')\n",
    "plt.xlabel('Size')\n",
    "plt.ylabel('Sum_Sales')\n",
    "plt.show()"
   ]
  },
  {
   "cell_type": "markdown",
   "metadata": {},
   "source": [
    "We can see that the store size and sales are approximately proportional, that is, the larger the scale, the higher the sales."
   ]
  },
  {
   "cell_type": "code",
   "execution_count": 15,
   "metadata": {},
   "outputs": [
    {
     "data": {
      "image/png": "[encoded data removed]",
      "text/plain": [
       "<Figure size 1152x432 with 1 Axes>"
      ]
     },
     "metadata": {
      "needs_background": "light"
     },
     "output_type": "display_data"
    }
   ],
   "source": [
    "# Divide sales by department group.\n",
    "\n",
    "train.groupby('Dept')['Weekly_Sales'].sum().plot(figsize=(16,6),kind='bar',color='purple',rot=90)\n",
    "plt.show()"
   ]
  },
  {
   "cell_type": "markdown",
   "metadata": {},
   "source": [
    "We can see that department 93 has the highest sales."
   ]
  },
  {
   "cell_type": "markdown",
   "metadata": {},
   "source": [
    "### 3. Investigate the effect of holidays on sales."
   ]
  },
  {
   "cell_type": "code",
   "execution_count": 16,
   "metadata": {},
   "outputs": [
    {
     "data": {
      "text/plain": [
       "IsHoliday\n",
       "False    15901.445069\n",
       "True     17035.823187\n",
       "Name: Weekly_Sales, dtype: float64"
      ]
     },
     "execution_count": 16,
     "metadata": {},
     "output_type": "execute_result"
    }
   ],
   "source": [
    "train.groupby('IsHoliday')['Weekly_Sales'].mean()"
   ]
  },
  {
   "cell_type": "code",
   "execution_count": 17,
   "metadata": {},
   "outputs": [
    {
     "data": {
      "image/png": "[encoded data removed]",
      "text/plain": [
       "<Figure size 432x288 with 1 Axes>"
      ]
     },
     "metadata": {
      "needs_background": "light"
     },
     "output_type": "display_data"
    }
   ],
   "source": [
    "train.groupby('IsHoliday')['Weekly_Sales'].mean().plot(kind='barh')\n",
    "plt.show()"
   ]
  },
  {
   "cell_type": "markdown",
   "metadata": {},
   "source": [
    "We can see that the average sales in holiday weeks are higher than those in non-holiday weeks."
   ]
  },
  {
   "cell_type": "markdown",
   "metadata": {},
   "source": [
    "### 4.Predict total sales for November and December 2012"
   ]
  },
  {
   "cell_type": "markdown",
   "metadata": {},
   "source": [
    "ARIMA is a more commonly used time series model based on historical data to make forecasts. Time series has many applications in business. For example, it can explain the seasonality in sales; it can predict the number of new or lost customers.\n",
    "\n",
    "The full name of ARIMA is auto-regressive integrated moving average, which is mainly determined by three parameters, namely (p, d, q). Among them, auto regressive (AR(p)) means that the value of a certain time point in the regression process depends on the value of p time points in the past. For example: AR(5) or ARIMA(5,0,0) means that the current value depends on the value of 5 time points in the past.\n",
    "\n",
    "+ The parameter d represents the order of the difference I(d), and the difference is the current value minus the previous value. Differences are mainly used to smoothen unstationary series.\n",
    "+ Moving average MA(q) means that the deviation of the model is a combination of previous deviations.\n",
    "+ The order q indicates that the current error depends on the previous q deviations.\n"
   ]
  },
  {
   "cell_type": "code",
   "execution_count": 18,
   "metadata": {},
   "outputs": [
    {
     "data": {
      "text/plain": [
       "Date\n",
       "2010-02-05    49750740.50\n",
       "2010-02-12    48336677.63\n",
       "2010-02-19    48276993.78\n",
       "2010-02-26    43968571.13\n",
       "2010-03-05    46871470.30\n",
       "                 ...     \n",
       "2012-09-28    43734899.40\n",
       "2012-10-05    47566639.31\n",
       "2012-10-12    46128514.25\n",
       "2012-10-19    45122410.57\n",
       "2012-10-26    45544116.29\n",
       "Name: Weekly_Sales, Length: 143, dtype: float64"
      ]
     },
     "execution_count": 18,
     "metadata": {},
     "output_type": "execute_result"
    }
   ],
   "source": [
    "# Group by time and calculate the total weekly sales.\n",
    "grouped = train.groupby('Date')['Weekly_Sales'].sum()\n",
    "grouped"
   ]
  },
  {
   "cell_type": "code",
   "execution_count": 19,
   "metadata": {},
   "outputs": [
    {
     "data": {
      "text/plain": [
       "<Figure size 720x432 with 0 Axes>"
      ]
     },
     "metadata": {},
     "output_type": "display_data"
    },
    {
     "data": {
      "image/png": "[encoded data removed]",
      "text/plain": [
       "<Figure size 432x288 with 1 Axes>"
      ]
     },
     "metadata": {
      "needs_background": "light"
     },
     "output_type": "display_data"
    }
   ],
   "source": [
    "#Draw the autocorrelation graph.\n",
    "from statsmodels.graphics.tsaplots import plot_acf, plot_pacf\n",
    "import matplotlib.pyplot as plt\n",
    "%matplotlib inline\n",
    "\n",
    "plt.figure(figsize=(10, 6))\n",
    "plot_acf(grouped)\n",
    "plt.show()"
   ]
  },
  {
   "cell_type": "code",
   "execution_count": 20,
   "metadata": {},
   "outputs": [
    {
     "name": "stdout",
     "output_type": "stream",
     "text": [
      "The test result of the original sequence is： (-5.90829795718632, 2.675979158986205e-07, 4, 138, {'1%': -3.47864788917503, '5%': -2.882721765644168, '10%': -2.578065326612056}, 4314.46014989216)\n"
     ]
    }
   ],
   "source": [
    "#Stationarity detection.\n",
    "from statsmodels.tsa.stattools import adfuller\n",
    "print('The test result of the original sequence is：',adfuller(grouped))"
   ]
  },
  {
   "cell_type": "markdown",
   "metadata": {},
   "source": [
    "adfuller return value：\n",
    "\n",
    "+ The first is the result of the adf test, which is the value of the t statistic.\n",
    "+ The second is the P value of the t statistic.\n",
    "+ The third is the delay order used in the calculation process.\n",
    "+ The fourth is the number of observations used for adf regression and calculation.\n",
    "+ The fifth is the value of the critical adf test under the 99%, 95%, and 90% confidence interval. It proves to be stable, if the first value is smaller than the fifth value. Otherwise it proves to be unstable.\n",
    "\n",
    "\n",
    "ADF is less than the 3 critical values of 3 different test levels, and the p value corresponding to the unit detection statistic is significantly less than 0.05, indicating that the series can be judged as a stationary series."
   ]
  },
  {
   "cell_type": "markdown",
   "metadata": {},
   "source": [
    "Comfirm the model factorial(determine p, q)"
   ]
  },
  {
   "cell_type": "code",
   "execution_count": 21,
   "metadata": {
    "scrolled": true
   },
   "outputs": [
    {
     "name": "stderr",
     "output_type": "stream",
     "text": [
      "D:\\Anaconda\\lib\\site-packages\\statsmodels\\tsa\\base\\tsa_model.py:162: ValueWarning: No frequency information was provided, so inferred frequency W-FRI will be used.\n",
      "  % freq, ValueWarning)\n",
      "D:\\Anaconda\\lib\\site-packages\\statsmodels\\tsa\\base\\tsa_model.py:162: ValueWarning: No frequency information was provided, so inferred frequency W-FRI will be used.\n",
      "  % freq, ValueWarning)\n",
      "D:\\Anaconda\\lib\\site-packages\\statsmodels\\tsa\\base\\tsa_model.py:162: ValueWarning: No frequency information was provided, so inferred frequency W-FRI will be used.\n",
      "  % freq, ValueWarning)\n",
      "D:\\Anaconda\\lib\\site-packages\\statsmodels\\tsa\\base\\tsa_model.py:162: ValueWarning: No frequency information was provided, so inferred frequency W-FRI will be used.\n",
      "  % freq, ValueWarning)\n",
      "D:\\Anaconda\\lib\\site-packages\\statsmodels\\tsa\\base\\tsa_model.py:162: ValueWarning: No frequency information was provided, so inferred frequency W-FRI will be used.\n",
      "  % freq, ValueWarning)\n",
      "D:\\Anaconda\\lib\\site-packages\\statsmodels\\tsa\\base\\tsa_model.py:162: ValueWarning: No frequency information was provided, so inferred frequency W-FRI will be used.\n",
      "  % freq, ValueWarning)\n",
      "D:\\Anaconda\\lib\\site-packages\\statsmodels\\tsa\\base\\tsa_model.py:162: ValueWarning: No frequency information was provided, so inferred frequency W-FRI will be used.\n",
      "  % freq, ValueWarning)\n",
      "D:\\Anaconda\\lib\\site-packages\\statsmodels\\tsa\\base\\tsa_model.py:162: ValueWarning: No frequency information was provided, so inferred frequency W-FRI will be used.\n",
      "  % freq, ValueWarning)\n",
      "D:\\Anaconda\\lib\\site-packages\\statsmodels\\tsa\\base\\tsa_model.py:162: ValueWarning: No frequency information was provided, so inferred frequency W-FRI will be used.\n",
      "  % freq, ValueWarning)\n"
     ]
    },
    {
     "name": "stdout",
     "output_type": "stream",
     "text": [
      "The minimum p-value and q-value of the BIC：2,2\n"
     ]
    }
   ],
   "source": [
    "# Comfirm the model factorial\n",
    "from statsmodels.tsa.arima_model import ARIMA\n",
    "\n",
    "pmax = int(len(grouped) / 50)  # factorial\n",
    "qmax = int(len(grouped) / 50)\n",
    "bic_matrix = []\n",
    "for p in range(pmax + 1):\n",
    "    temp = []\n",
    "    for q in range(qmax + 1):\n",
    "        try:\n",
    "            value = ARIMA(grouped, (p, 0, q)).fit().bic\n",
    "            temp.append(value)\n",
    "        except:\n",
    "            temp.append(None)\n",
    "    bic_matrix.append(temp)\n",
    "\n",
    "bic_matrix = pd.DataFrame(bic_matrix)  # transfer to data structure of the DataFrame\n",
    "p, q = bic_matrix.stack().astype(float).idxmin()  # First use stack flattening, and then use idxmin to find the location of the minimum value.\n",
    "\n",
    "print('The minimum p-value and q-value of the BIC：%s,%s' % (p, q))  # The minimum p-value and q-value of the BIC."
   ]
  },
  {
   "cell_type": "markdown",
   "metadata": {},
   "source": [
    "Confirm the model ARIMA (p , d , q )"
   ]
  },
  {
   "cell_type": "code",
   "execution_count": 22,
   "metadata": {},
   "outputs": [
    {
     "name": "stderr",
     "output_type": "stream",
     "text": [
      "D:\\Anaconda\\lib\\site-packages\\statsmodels\\tsa\\base\\tsa_model.py:162: ValueWarning: No frequency information was provided, so inferred frequency W-FRI will be used.\n",
      "  % freq, ValueWarning)\n"
     ]
    },
    {
     "data": {
      "text/html": [
       "<table class=\"simpletable\">\n",
       "<tr>\n",
       "        <td>Model:</td>              <td>ARMA</td>               <td>BIC:</td>          <td>4832.5408</td> \n",
       "</tr>\n",
       "<tr>\n",
       "  <td>Dependent Variable:</td>   <td>Weekly_Sales</td>      <td>Log-Likelihood:</td>     <td>-2401.4</td>  \n",
       "</tr>\n",
       "<tr>\n",
       "         <td>Date:</td>        <td>2021-08-24 07:57</td>        <td>Scale:</td>          <td>1.0000</td>   \n",
       "</tr>\n",
       "<tr>\n",
       "   <td>No. Observations:</td>         <td>143</td>              <td>Method:</td>         <td>css-mle</td>  \n",
       "</tr>\n",
       "<tr>\n",
       "       <td>Df Model:</td>              <td>5</td>               <td>Sample:</td>       <td>02-05-2010</td> \n",
       "</tr>\n",
       "<tr>\n",
       "     <td>Df Residuals:</td>           <td>138</td>                 <td></td>           <td>10-26-2012</td> \n",
       "</tr>\n",
       "<tr>\n",
       "      <td>Converged:</td>           <td>1.0000</td>      <td>S.D. of innovations:</td> <td>4724214.665</td>\n",
       "</tr>\n",
       "<tr>\n",
       "    <td>No. Iterations:</td>        <td>14.0000</td>             <td>HQIC:</td>         <td>4821.988</td>  \n",
       "</tr>\n",
       "<tr>\n",
       "         <td>AIC:</td>             <td>4814.7638</td>              <td></td>                <td></td>      \n",
       "</tr>\n",
       "</table>\n",
       "<table class=\"simpletable\">\n",
       "<tr>\n",
       "           <td></td>              <th>Coef.</th>      <th>Std.Err.</th>      <th>t</th>     <th>P>|t|</th>    <th>[0.025</th>        <th>0.975]</th>    \n",
       "</tr>\n",
       "<tr>\n",
       "  <th>const</th>              <td>47113419.4903</td> <td>552367.6219</td> <td>85.2936</td> <td>0.0000</td> <td>46030798.8452</td> <td>48196040.1354</td>\n",
       "</tr>\n",
       "<tr>\n",
       "  <th>ar.L1.Weekly_Sales</th>    <td>-0.9724</td>      <td>0.1385</td>    <td>-7.0190</td> <td>0.0000</td>    <td>-1.2440</td>       <td>-0.7009</td>   \n",
       "</tr>\n",
       "<tr>\n",
       "  <th>ar.L2.Weekly_Sales</th>    <td>-0.3647</td>      <td>0.1410</td>    <td>-2.5861</td> <td>0.0097</td>    <td>-0.6412</td>       <td>-0.0883</td>   \n",
       "</tr>\n",
       "<tr>\n",
       "  <th>ma.L1.Weekly_Sales</th>    <td>1.3943</td>       <td>0.0947</td>    <td>14.7217</td> <td>0.0000</td>    <td>1.2087</td>        <td>1.5799</td>    \n",
       "</tr>\n",
       "<tr>\n",
       "  <th>ma.L2.Weekly_Sales</th>    <td>0.8784</td>       <td>0.1025</td>    <td>8.5698</td>  <td>0.0000</td>    <td>0.6775</td>        <td>1.0792</td>    \n",
       "</tr>\n",
       "</table>\n",
       "<table class=\"simpletable\">\n",
       "<tr>\n",
       "    <td></td>    <th>Real</th>   <th>Imaginary</th> <th>Modulus</th> <th>Frequency</th>\n",
       "</tr>\n",
       "<tr>\n",
       "  <th>AR.1</th> <td>-1.3330</td>  <td>-0.9822</td>  <td>1.6558</td>   <td>-0.3989</td> \n",
       "</tr>\n",
       "<tr>\n",
       "  <th>AR.2</th> <td>-1.3330</td>  <td>0.9822</td>   <td>1.6558</td>   <td>0.3989</td>  \n",
       "</tr>\n",
       "<tr>\n",
       "  <th>MA.1</th> <td>-0.7937</td>  <td>-0.7131</td>  <td>1.0670</td>   <td>-0.3835</td> \n",
       "</tr>\n",
       "<tr>\n",
       "  <th>MA.2</th> <td>-0.7937</td>  <td>0.7131</td>   <td>1.0670</td>   <td>0.3835</td>  \n",
       "</tr>\n",
       "</table>"
      ],
      "text/plain": [
       "<class 'statsmodels.iolib.summary2.Summary'>\n",
       "\"\"\"\n",
       "                                     Results: ARMA\n",
       "=======================================================================================\n",
       "Model:                    ARMA                   BIC:                       4832.5408  \n",
       "Dependent Variable:       Weekly_Sales           Log-Likelihood:            -2401.4    \n",
       "Date:                     2021-08-24 07:57       Scale:                     1.0000     \n",
       "No. Observations:         143                    Method:                    css-mle    \n",
       "Df Model:                 5                      Sample:                    02-05-2010 \n",
       "Df Residuals:             138                                               10-26-2012 \n",
       "Converged:                1.0000                 S.D. of innovations:       4724214.665\n",
       "No. Iterations:           14.0000                HQIC:                      4821.988   \n",
       "AIC:                      4814.7638                                                    \n",
       "---------------------------------------------------------------------------------------\n",
       "                       Coef.       Std.Err.     t    P>|t|      [0.025        0.975]   \n",
       "---------------------------------------------------------------------------------------\n",
       "const              47113419.4903 552367.6219 85.2936 0.0000 46030798.8452 48196040.1354\n",
       "ar.L1.Weekly_Sales       -0.9724      0.1385 -7.0190 0.0000       -1.2440       -0.7009\n",
       "ar.L2.Weekly_Sales       -0.3647      0.1410 -2.5861 0.0097       -0.6412       -0.0883\n",
       "ma.L1.Weekly_Sales        1.3943      0.0947 14.7217 0.0000        1.2087        1.5799\n",
       "ma.L2.Weekly_Sales        0.8784      0.1025  8.5698 0.0000        0.6775        1.0792\n",
       "------------------------------------------------------------------------------------------------------\n",
       "                        Real                 Imaginary                Modulus                Frequency\n",
       "------------------------------------------------------------------------------------------------------\n",
       "AR.1                  -1.3330                  -0.9822                 1.6558                  -0.3989\n",
       "AR.2                  -1.3330                   0.9822                 1.6558                   0.3989\n",
       "MA.1                  -0.7937                  -0.7131                 1.0670                  -0.3835\n",
       "MA.2                  -0.7937                   0.7131                 1.0670                   0.3835\n",
       "=======================================================================================\n",
       "\n",
       "\"\"\""
      ]
     },
     "execution_count": 22,
     "metadata": {},
     "output_type": "execute_result"
    }
   ],
   "source": [
    "from statsmodels.tsa.arima_model import ARIMA \n",
    "\n",
    "#Confrim the ARIMA model, ARIMA(2,0,2)\n",
    "model = ARIMA(grouped,(2,0,2)).fit()\n",
    "model.summary2()#create a report\n"
   ]
  },
  {
   "cell_type": "markdown",
   "metadata": {},
   "source": [
    "Make a forecast for the sales data for the next 10 weeks, and return the forecast result, standard error, and confidence interval."
   ]
  },
  {
   "cell_type": "code",
   "execution_count": 23,
   "metadata": {
    "scrolled": false
   },
   "outputs": [
    {
     "data": {
      "text/plain": [
       "(array([47900905.50264294, 47049302.8316195 , 46888540.71225154,\n",
       "        47355482.267406  , 46960054.65089676, 47174264.88747767,\n",
       "        47110190.33271877, 47094366.87773571, 47133124.45682582,\n",
       "        47101207.20041807]),\n",
       " array([4724214.66544625, 5127405.8899865 , 5150612.06293633,\n",
       "        5288971.6166884 , 5380932.54407732, 5406472.10254583,\n",
       "        5408528.02294322, 5408727.44566192, 5409643.5415263 ,\n",
       "        5410233.06864036]),\n",
       " array([[38641614.90313236, 57160196.10215352],\n",
       "        [36999771.95312741, 57098833.71011159],\n",
       "        [36793526.57055879, 56983554.85394429],\n",
       "        [36989288.38344215, 57721676.15136985],\n",
       "        [36413620.66126573, 57506488.64052778],\n",
       "        [36577774.2830673 , 57770755.49188803],\n",
       "        [36509670.19837444, 57710710.46706311],\n",
       "        [36493455.88204503, 57695277.87342639],\n",
       "        [36530417.94623458, 57735830.96741707],\n",
       "        [36497345.23791534, 57705069.1629208 ]]))"
      ]
     },
     "execution_count": 23,
     "metadata": {},
     "output_type": "execute_result"
    }
   ],
   "source": [
    "model.forecast(10) "
   ]
  },
  {
   "cell_type": "code",
   "execution_count": 24,
   "metadata": {
    "scrolled": true
   },
   "outputs": [
    {
     "data": {
      "text/html": [
       "<div>\n",
       "<style scoped>\n",
       "    .dataframe tbody tr th:only-of-type {\n",
       "        vertical-align: middle;\n",
       "    }\n",
       "\n",
       "    .dataframe tbody tr th {\n",
       "        vertical-align: top;\n",
       "    }\n",
       "\n",
       "    .dataframe thead th {\n",
       "        text-align: right;\n",
       "    }\n",
       "</style>\n",
       "<table border=\"1\" class=\"dataframe\">\n",
       "  <thead>\n",
       "    <tr style=\"text-align: right;\">\n",
       "      <th></th>\n",
       "      <th>Prediction Time</th>\n",
       "      <th>Sales Amount</th>\n",
       "    </tr>\n",
       "  </thead>\n",
       "  <tbody>\n",
       "    <tr>\n",
       "      <th>0</th>\n",
       "      <td>2012-11-02</td>\n",
       "      <td>4.790091e+07</td>\n",
       "    </tr>\n",
       "    <tr>\n",
       "      <th>1</th>\n",
       "      <td>2012-11-09</td>\n",
       "      <td>4.704930e+07</td>\n",
       "    </tr>\n",
       "    <tr>\n",
       "      <th>2</th>\n",
       "      <td>2012-11-16</td>\n",
       "      <td>4.688854e+07</td>\n",
       "    </tr>\n",
       "    <tr>\n",
       "      <th>3</th>\n",
       "      <td>2012-11-23</td>\n",
       "      <td>4.735548e+07</td>\n",
       "    </tr>\n",
       "    <tr>\n",
       "      <th>4</th>\n",
       "      <td>2012-11-30</td>\n",
       "      <td>4.696005e+07</td>\n",
       "    </tr>\n",
       "    <tr>\n",
       "      <th>5</th>\n",
       "      <td>2012-12-07</td>\n",
       "      <td>4.717426e+07</td>\n",
       "    </tr>\n",
       "    <tr>\n",
       "      <th>6</th>\n",
       "      <td>2012-12-14</td>\n",
       "      <td>4.711019e+07</td>\n",
       "    </tr>\n",
       "    <tr>\n",
       "      <th>7</th>\n",
       "      <td>2012-12-20</td>\n",
       "      <td>4.709437e+07</td>\n",
       "    </tr>\n",
       "    <tr>\n",
       "      <th>8</th>\n",
       "      <td>2012-12-27</td>\n",
       "      <td>4.713312e+07</td>\n",
       "    </tr>\n",
       "  </tbody>\n",
       "</table>\n",
       "</div>"
      ],
      "text/plain": [
       "  Prediction Time  Sales Amount\n",
       "0      2012-11-02  4.790091e+07\n",
       "1      2012-11-09  4.704930e+07\n",
       "2      2012-11-16  4.688854e+07\n",
       "3      2012-11-23  4.735548e+07\n",
       "4      2012-11-30  4.696005e+07\n",
       "5      2012-12-07  4.717426e+07\n",
       "6      2012-12-14  4.711019e+07\n",
       "7      2012-12-20  4.709437e+07\n",
       "8      2012-12-27  4.713312e+07"
      ]
     },
     "execution_count": 24,
     "metadata": {},
     "output_type": "execute_result"
    }
   ],
   "source": [
    "predict_time = pd.DataFrame(['2012-11-02','2012-11-09','2012-11-16','2012-11-23','2012-11-30','2012-12-07','2012-12-14','2012-12-20','2012-12-27']).rename(columns={0:'Prediction Time'})\n",
    "predict_value = pd.DataFrame(model.forecast(9)[0]).rename(columns={0:'Sales Amount'})\n",
    "\n",
    "result = pd.concat([predict_time,predict_value],axis=1)\n",
    "result"
   ]
  },
  {
   "cell_type": "code",
   "execution_count": 26,
   "metadata": {
    "scrolled": true
   },
   "outputs": [
    {
     "name": "stdout",
     "output_type": "stream",
     "text": [
      "236154285.96481672 \n",
      " 188511946.55475798\n"
     ]
    }
   ],
   "source": [
    "sum_month_11 = result.loc[0:4,'Sales Amount'].sum()\n",
    "sum_month_12 = result.loc[5:8,'Sales Amount'].sum()\n",
    "print(sum_month_11,'\\n',sum_month_12)"
   ]
  },
  {
   "cell_type": "markdown",
   "metadata": {},
   "source": [
    "Therefore, according to the ARIMA model forecast, the sale amount in November are 236154287 and the sale amount in December are 188511946."
   ]
  },
  {
   "cell_type": "markdown",
   "metadata": {},
   "source": [
    "    I think the best algorithm is ARIMA. It combines both Autoregression (AR) and Moving Average (MA) models as well as a differencing pre-processing step of the sequence to make the sequence stationary, called integration. As for this test, it probability is over-fitting if ther is more seasonal feature. Firstly, I separate the data based on time characteristics. Secondly, according to the obtained features, I use the ARIMA model, which is an algorithm model related to continuous time features. Finally, according to the obtained time data and corresponding sales data, I calculated the best parameters required by the model. Finally, through these models and parameters, forecast the sales amounts in November and December."
   ]
  },
  {
   "cell_type": "markdown",
   "metadata": {},
   "source": [
    "    The logic of this algorithm is that we can calculate the key parameters of the algorithm model through the existing continuous time characteristics. This is similar to the training steps in machine learning algorithms. This step is to obtain the best model parameters for the known data. After that, for the prediction of unknown data, we can take the best parameters for simulation to achieve the best results. This algorithm must first ensure that the previous data is very closely related to time. As long as the time data is sufficiently complete, the predicted data is also perfect."
   ]
  },
  {
   "cell_type": "markdown",
   "metadata": {},
   "source": [
    "    For this test, I have other suggestions. I think it can also be predicted by the SARIMA algorithm.The full name of SARIMA algorithm is Seasonal Autoregressive Integrated Moving-Average. This algorithm can predict data through seasonal data changes. In this data set, we can see that the \"holiday\" data interferes with the data prediction. So I guess that by separating the \"holiday\" data, adding a feature of \"off season\" and \"peak season\", so can better obtain forecast data."
   ]
  }
 ],
 "metadata": {
  "kernelspec": {
   "display_name": "Python 3",
   "language": "python",
   "name": "python3"
  },
  "language_info": {
   "codemirror_mode": {
    "name": "ipython",
    "version": 3
   },
   "file_extension": ".py",
   "mimetype": "text/x-python",
   "name": "python",
   "nbconvert_exporter": "python",
   "pygments_lexer": "ipython3",
   "version": "3.7.3"
  }
 },
 "nbformat": 4,
 "nbformat_minor": 2
}
